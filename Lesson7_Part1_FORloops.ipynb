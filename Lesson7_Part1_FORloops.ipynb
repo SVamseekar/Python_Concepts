{
 "cells": [
  {
   "cell_type": "markdown",
   "id": "6d630910",
   "metadata": {},
   "source": [
    "## **PYTHON LOOPS -PART1- FOR LOOPS**\n"
   ]
  },
  {
   "cell_type": "code",
   "execution_count": 1,
   "id": "6ca12300",
   "metadata": {},
   "outputs": [
    {
     "name": "stdout",
     "output_type": "stream",
     "text": [
      "2001\n",
      "2002\n",
      "2003\n",
      "2004\n",
      "2005\n",
      "2006\n",
      "2007\n",
      "2008\n",
      "2009\n",
      "2010\n",
      "2011\n",
      "2012\n",
      "2013\n",
      "2014\n",
      "2015\n"
     ]
    }
   ],
   "source": [
    "leapyears = [2001,2002,2003,2004,2005,2006,2007,2008,2009,2010,2011,2012,2013,2014,2015]\n",
    "for year in leapyears:\n",
    "    print(year)"
   ]
  },
  {
   "cell_type": "code",
   "execution_count": 4,
   "id": "84bbed34",
   "metadata": {},
   "outputs": [
    {
     "name": "stdout",
     "output_type": "stream",
     "text": [
      "2001 - Not a Leap Year\n",
      "2002 - Not a Leap Year\n",
      "2003 - Not a Leap Year\n",
      "2004 - Leap Year\n",
      "2005 - Not a Leap Year\n",
      "2006 - Not a Leap Year\n",
      "2007 - Not a Leap Year\n",
      "2008 - Leap Year\n",
      "2009 - Not a Leap Year\n",
      "2010 - Not a Leap Year\n",
      "2011 - Not a Leap Year\n",
      "2012 - Leap Year\n",
      "2013 - Not a Leap Year\n",
      "2014 - Not a Leap Year\n",
      "2015 - Not a Leap Year\n"
     ]
    }
   ],
   "source": [
    "for year in leapyears:\n",
    "    if year%4==0:\n",
    "        print(\"%d - Leap Year\" %(year))\n",
    "    else:\n",
    "        print(\"%d - Not a Leap Year\" %(year))"
   ]
  },
  {
   "cell_type": "markdown",
   "id": "639cdd01",
   "metadata": {},
   "source": [
    "**USE OF FOR LOOPS WITH ALL THE DATA STRUCTURES**"
   ]
  },
  {
   "cell_type": "markdown",
   "id": "78b6412a",
   "metadata": {},
   "source": [
    "**1. FOR LOOPS WITH STRINGS**"
   ]
  },
  {
   "cell_type": "code",
   "execution_count": 5,
   "id": "aad7b1dd",
   "metadata": {},
   "outputs": [
    {
     "name": "stdout",
     "output_type": "stream",
     "text": [
      "m\n",
      "y\n",
      " \n",
      "n\n",
      "a\n",
      "m\n",
      "e\n",
      " \n",
      "i\n",
      "s\n",
      " \n",
      "R\n",
      "o\n",
      "b\n",
      "e\n",
      "r\n",
      "t\n",
      " \n",
      "D\n",
      "e\n",
      " \n",
      "N\n",
      "i\n",
      "r\n",
      "o\n"
     ]
    }
   ],
   "source": [
    "mystr = \"my name is Robert De Niro\"\n",
    "for letter in mystr:\n",
    "    print(letter)"
   ]
  },
  {
   "cell_type": "markdown",
   "id": "67d00584",
   "metadata": {},
   "source": [
    "**2. FOR LOOPS WITH TUPLES**"
   ]
  },
  {
   "cell_type": "code",
   "execution_count": 9,
   "id": "4e3779ae",
   "metadata": {},
   "outputs": [
    {
     "name": "stdout",
     "output_type": "stream",
     "text": [
      "2\n",
      "3\n",
      "5\n",
      "7\n",
      "9\n",
      "11\n",
      "13\n",
      "17\n",
      "19\n",
      "23\n",
      "27\n",
      "29\n",
      "31\n"
     ]
    }
   ],
   "source": [
    "tup1 = (2,3,5,7,9,11,13,17,19,23,27,29,31)\n",
    "for item in tup1:\n",
    "    print(item)"
   ]
  },
  {
   "cell_type": "code",
   "execution_count": 13,
   "id": "e2e499dd",
   "metadata": {},
   "outputs": [
    {
     "name": "stdout",
     "output_type": "stream",
     "text": [
      "2\n",
      "5\n",
      "10\n",
      "17\n",
      "26\n",
      "37\n",
      "50\n",
      "67\n",
      "86\n",
      "109\n",
      "136\n",
      "165\n",
      "196\n",
      "196\n"
     ]
    }
   ],
   "source": [
    "sum = 0 \n",
    "for item in tup1:\n",
    "    sum += item\n",
    "    print(sum)\n",
    "print(sum)"
   ]
  },
  {
   "cell_type": "markdown",
   "id": "863620f2",
   "metadata": {},
   "source": [
    "**Tuple unpacking is where we can unpack the tuples wehn iterating through a sequence. <br/>**"
   ]
  },
  {
   "cell_type": "code",
   "execution_count": 14,
   "id": "691a613b",
   "metadata": {},
   "outputs": [
    {
     "name": "stdout",
     "output_type": "stream",
     "text": [
      "2 3\n",
      "5 7\n",
      "9 11\n",
      "13 17\n",
      "19 23\n",
      "27 29\n"
     ]
    }
   ],
   "source": [
    "tup2 = [(2,3),(5,7),(9,11),(13,17),(19,23),(27,29)]\n",
    "for a,b in tup2:\n",
    "    print(a,b)\n"
   ]
  },
  {
   "cell_type": "code",
   "execution_count": 15,
   "id": "c891e94c",
   "metadata": {},
   "outputs": [
    {
     "name": "stdout",
     "output_type": "stream",
     "text": [
      "2\n",
      "5\n",
      "9\n",
      "13\n",
      "19\n",
      "27\n"
     ]
    }
   ],
   "source": [
    "for a,b in tup2:\n",
    "    print(a)"
   ]
  },
  {
   "cell_type": "markdown",
   "id": "ae78bd26",
   "metadata": {},
   "source": [
    "**3. FOR LOOPS WITH DICTIONARIES**"
   ]
  },
  {
   "cell_type": "markdown",
   "id": "ef2ab8f9",
   "metadata": {},
   "source": [
    "**Similar to tuple unpacking there is dictionary unpacking as well. <br/>\n",
    "Here there are 3 methods for unpacking and accessing the items of the dictionary <br/>\n",
    ".items() - to access key value pairs <br/>\n",
    ".keys() - to access only keys <br/>\n",
    ".values() - to access only values <br/>**"
   ]
  },
  {
   "cell_type": "code",
   "execution_count": 19,
   "id": "3e32c4d1",
   "metadata": {},
   "outputs": [
    {
     "name": "stdout",
     "output_type": "stream",
     "text": [
      "name vamsee\n",
      "yearofbirth 1999\n",
      "gender male\n",
      "empid 1\n"
     ]
    }
   ],
   "source": [
    "dict1 = {'name':'vamsee', 'yearofbirth':1999, 'gender': 'male', 'empid': 1}\n",
    "for k,v in dict1.items():\n",
    "    print(k,v)"
   ]
  },
  {
   "cell_type": "code",
   "execution_count": 20,
   "id": "19acfcd4",
   "metadata": {},
   "outputs": [
    {
     "name": "stdout",
     "output_type": "stream",
     "text": [
      "name\n",
      "yearofbirth\n",
      "gender\n",
      "empid\n"
     ]
    }
   ],
   "source": [
    "for k in dict1.keys():\n",
    "    print(k)"
   ]
  },
  {
   "cell_type": "code",
   "execution_count": 21,
   "id": "26a6a940",
   "metadata": {},
   "outputs": [
    {
     "name": "stdout",
     "output_type": "stream",
     "text": [
      "vamsee\n",
      "1999\n",
      "male\n",
      "1\n"
     ]
    }
   ],
   "source": [
    "for v in dict1.values():\n",
    "    print(v)"
   ]
  },
  {
   "cell_type": "markdown",
   "id": "9022039f",
   "metadata": {},
   "source": [
    "**To create a list of keys from the dictionary**"
   ]
  },
  {
   "cell_type": "code",
   "execution_count": 22,
   "id": "11c64002",
   "metadata": {},
   "outputs": [
    {
     "data": {
      "text/plain": [
       "['name', 'yearofbirth', 'gender', 'empid']"
      ]
     },
     "execution_count": 22,
     "metadata": {},
     "output_type": "execute_result"
    }
   ],
   "source": [
    "list(dict1.keys())"
   ]
  }
 ],
 "metadata": {
  "kernelspec": {
   "display_name": "Python 3",
   "language": "python",
   "name": "python3"
  },
  "language_info": {
   "codemirror_mode": {
    "name": "ipython",
    "version": 3
   },
   "file_extension": ".py",
   "mimetype": "text/x-python",
   "name": "python",
   "nbconvert_exporter": "python",
   "pygments_lexer": "ipython3",
   "version": "3.13.2"
  }
 },
 "nbformat": 4,
 "nbformat_minor": 5
}
