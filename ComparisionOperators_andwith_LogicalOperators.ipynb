{
 "cells": [
  {
   "cell_type": "code",
   "execution_count": null,
   "id": "680c9985",
   "metadata": {},
   "outputs": [
    {
     "data": {
      "text/plain": [
       "'d:\\\\Python_Scripts'"
      ]
     },
     "execution_count": 1,
     "metadata": {},
     "output_type": "execute_result"
    }
   ],
   "source": [
    "\n",
    "\n",
    "pwd"
   ]
  },
  {
   "cell_type": "markdown",
   "id": "6d02d9ab",
   "metadata": {},
   "source": [
    "## **COMPARISION OPERATORS**\n",
    "**The Comparision operators generally return a boolean value either True or False**<br/>\n",
    "**1. == equal to operator**<br/>\n",
    "**2. != not equal to operator**<br/>\n",
    "**3. > greater than operator**<br/>\n",
    "**4. < less than operator**<br/>\n",
    "**5. >= greater than or equal to operator**<br/>\n",
    "**6. <= less than or equal to operator**<br/>"
   ]
  },
  {
   "cell_type": "code",
   "execution_count": 2,
   "id": "fcbcf182",
   "metadata": {},
   "outputs": [
    {
     "data": {
      "text/plain": [
       "False"
      ]
     },
     "execution_count": 2,
     "metadata": {},
     "output_type": "execute_result"
    }
   ],
   "source": [
    "#1. == equal to operator\n",
    "68 == 27"
   ]
  },
  {
   "cell_type": "code",
   "execution_count": 3,
   "id": "39083821",
   "metadata": {},
   "outputs": [
    {
     "data": {
      "text/plain": [
       "False"
      ]
     },
     "execution_count": 3,
     "metadata": {},
     "output_type": "execute_result"
    }
   ],
   "source": [
    "'L' == 'V'"
   ]
  },
  {
   "cell_type": "code",
   "execution_count": 4,
   "id": "27fe0cea",
   "metadata": {},
   "outputs": [
    {
     "data": {
      "text/plain": [
       "True"
      ]
     },
     "execution_count": 4,
     "metadata": {},
     "output_type": "execute_result"
    }
   ],
   "source": [
    "#2. != not equal to operator\n",
    "68 != 27"
   ]
  },
  {
   "cell_type": "code",
   "execution_count": 5,
   "id": "a7ee5601",
   "metadata": {},
   "outputs": [
    {
     "data": {
      "text/plain": [
       "True"
      ]
     },
     "execution_count": 5,
     "metadata": {},
     "output_type": "execute_result"
    }
   ],
   "source": [
    "'L' != 'V'"
   ]
  },
  {
   "cell_type": "code",
   "execution_count": null,
   "id": "cb814ce0",
   "metadata": {},
   "outputs": [
    {
     "data": {
      "text/plain": [
       "True"
      ]
     },
     "execution_count": 6,
     "metadata": {},
     "output_type": "execute_result"
    }
   ],
   "source": [
    "#3. > greater than operator\n",
    "68 > 27"
   ]
  },
  {
   "cell_type": "code",
   "execution_count": 7,
   "id": "1e2b2c5c",
   "metadata": {},
   "outputs": [
    {
     "data": {
      "text/plain": [
       "False"
      ]
     },
     "execution_count": 7,
     "metadata": {},
     "output_type": "execute_result"
    }
   ],
   "source": [
    "'L' > 'V'"
   ]
  },
  {
   "cell_type": "code",
   "execution_count": null,
   "id": "23c392e1",
   "metadata": {},
   "outputs": [
    {
     "data": {
      "text/plain": [
       "False"
      ]
     },
     "execution_count": 8,
     "metadata": {},
     "output_type": "execute_result"
    }
   ],
   "source": [
    "#4. < less than operator\n",
    "68 < 27"
   ]
  },
  {
   "cell_type": "code",
   "execution_count": 10,
   "id": "84a41776",
   "metadata": {},
   "outputs": [
    {
     "data": {
      "text/plain": [
       "True"
      ]
     },
     "execution_count": 10,
     "metadata": {},
     "output_type": "execute_result"
    }
   ],
   "source": [
    "'L' < 'V'"
   ]
  },
  {
   "cell_type": "code",
   "execution_count": null,
   "id": "e0a391ea",
   "metadata": {},
   "outputs": [
    {
     "data": {
      "text/plain": [
       "True"
      ]
     },
     "execution_count": 11,
     "metadata": {},
     "output_type": "execute_result"
    }
   ],
   "source": [
    "#5. >= Greater than equal to operator\n",
    "68 >= 27"
   ]
  },
  {
   "cell_type": "code",
   "execution_count": 13,
   "id": "253d1346",
   "metadata": {},
   "outputs": [
    {
     "data": {
      "text/plain": [
       "False"
      ]
     },
     "execution_count": 13,
     "metadata": {},
     "output_type": "execute_result"
    }
   ],
   "source": [
    "'L' >= 'V'"
   ]
  },
  {
   "cell_type": "code",
   "execution_count": null,
   "id": "9ce86717",
   "metadata": {},
   "outputs": [
    {
     "data": {
      "text/plain": [
       "False"
      ]
     },
     "execution_count": 14,
     "metadata": {},
     "output_type": "execute_result"
    }
   ],
   "source": [
    "#6. >= Less than equal to operator\n",
    "68 <= 27"
   ]
  },
  {
   "cell_type": "code",
   "execution_count": 15,
   "id": "10faa8f5",
   "metadata": {},
   "outputs": [
    {
     "data": {
      "text/plain": [
       "True"
      ]
     },
     "execution_count": 15,
     "metadata": {},
     "output_type": "execute_result"
    }
   ],
   "source": [
    "'L' <= 'V'"
   ]
  },
  {
   "cell_type": "markdown",
   "id": "e4422aa1",
   "metadata": {},
   "source": [
    "## **COMPARISION OPERATORS WITH LOGICAL OPERATORS**\n",
    "**1. 'AND' OPERATOR - RETURNS TRUE WHEN BOTH THE CONDITIONS MUST BE TRUE - CAN BE USED ON ALL 6 COMPARISION OPERATORS**<br/>\n",
    "**2. 'OR' OPERATOR - RETURNS TRUE WHEN EITHER OF THE CONDITION MUST BE TRUE - CAN BE USED ON ALL 6 COMPARISION OPERATORS**<br/>\n",
    "**3. 'NOT' OPERATOR - RETURNS TRUE WHEN THE CONDITION IS FALSE AND VICE-VERSA - CAN BE USED ON ALL 6 COMPARISION OPERATORS**<br/>"
   ]
  },
  {
   "cell_type": "code",
   "execution_count": 18,
   "id": "91ebcf7f",
   "metadata": {},
   "outputs": [
    {
     "data": {
      "text/plain": [
       "False"
      ]
     },
     "execution_count": 18,
     "metadata": {},
     "output_type": "execute_result"
    }
   ],
   "source": [
    "(68 == 27) and ('L' < 'V')"
   ]
  },
  {
   "cell_type": "code",
   "execution_count": null,
   "id": "b37c9588",
   "metadata": {},
   "outputs": [],
   "source": []
  }
 ],
 "metadata": {
  "kernelspec": {
   "display_name": "Python 3",
   "language": "python",
   "name": "python3"
  },
  "language_info": {
   "codemirror_mode": {
    "name": "ipython",
    "version": 3
   },
   "file_extension": ".py",
   "mimetype": "text/x-python",
   "name": "python",
   "nbconvert_exporter": "python",
   "pygments_lexer": "ipython3",
   "version": "3.13.2"
  }
 },
 "nbformat": 4,
 "nbformat_minor": 5
}
