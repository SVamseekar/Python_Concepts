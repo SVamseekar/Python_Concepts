{
 "cells": [
  {
   "cell_type": "markdown",
   "metadata": {},
   "source": [
    "**DICTIONARY : {'KEY1': 'VALUE1', 'KEY2': 'VALUE2}**"
   ]
  },
  {
   "cell_type": "markdown",
   "metadata": {},
   "source": [
    "**1. Different data types can be used in the Dictionaries <br/>\n",
    "2. Dictionaries can be unsorted meaning it can't handle indexing, slicing, sorting etc. <br/>\n",
    "3. Dictionaries are unordered <br/>\n",
    "4. Objects in the dictionaries can be retrieved using the keys** "
   ]
  },
  {
   "cell_type": "code",
   "execution_count": 9,
   "metadata": {},
   "outputs": [
    {
     "data": {
      "text/plain": [
       "{'Country': 'Algeria',\n",
       " 'Temp': 51.3,\n",
       " 'Town': 'Ouargla Province',\n",
       " 'Date': '7 January 2016'}"
      ]
     },
     "execution_count": 9,
     "metadata": {},
     "output_type": "execute_result"
    }
   ],
   "source": [
    "#Different data types are supported in the dictionary\n",
    "highest_temp = {'Country': 'Algeria', 'Temp': 51.3, 'Town': 'Ouargla Province', 'Date': '7 January 2016'}\n",
    "highest_temp"
   ]
  },
  {
   "cell_type": "code",
   "execution_count": null,
   "metadata": {},
   "outputs": [
    {
     "data": {
      "text/plain": [
       "{'k1': 1999, 'k2': [1, 2, 3], 'k3': {'nested key': 'nested value'}}"
      ]
     },
     "execution_count": 10,
     "metadata": {},
     "output_type": "execute_result"
    }
   ],
   "source": [
    "# In the below example the dictionary has integer, list and\n",
    "# nested dictionary as the values for the keys\n",
    "multi_datatypes = {'k1': 1999, 'k2': [1, 2, 3], 'k3': {'nested key': 'nested value'}}\n",
    "multi_datatypes"
   ]
  },
  {
   "cell_type": "code",
   "execution_count": 11,
   "metadata": {},
   "outputs": [
    {
     "data": {
      "text/plain": [
       "{'nested key': 'nested value'}"
      ]
     },
     "execution_count": 11,
     "metadata": {},
     "output_type": "execute_result"
    }
   ],
   "source": [
    "# to retrieve the objects of the above dictionary\n",
    "multi_datatypes['k3']"
   ]
  },
  {
   "cell_type": "code",
   "execution_count": 12,
   "metadata": {},
   "outputs": [
    {
     "data": {
      "text/plain": [
       "[1, 2, 3]"
      ]
     },
     "execution_count": 12,
     "metadata": {},
     "output_type": "execute_result"
    }
   ],
   "source": [
    "multi_datatypes['k2']"
   ]
  },
  {
   "cell_type": "code",
   "execution_count": 13,
   "metadata": {},
   "outputs": [
    {
     "data": {
      "text/plain": [
       "2"
      ]
     },
     "execution_count": 13,
     "metadata": {},
     "output_type": "execute_result"
    }
   ],
   "source": [
    "# in the above cell to get the 2nd item of the list we can do\n",
    "multi_datatypes['k2'][1]"
   ]
  },
  {
   "cell_type": "code",
   "execution_count": 2,
   "metadata": {},
   "outputs": [],
   "source": [
    "my_details = {'Name': 'Soura Vamseekar', 'Age': 26, 'Sex': 'Male', 'Nationality': 'Indian'}"
   ]
  },
  {
   "cell_type": "code",
   "execution_count": 3,
   "metadata": {},
   "outputs": [
    {
     "data": {
      "text/plain": [
       "{'Name': 'Soura Vamseekar', 'Age': 26, 'Sex': 'Male', 'Nationality': 'Indian'}"
      ]
     },
     "execution_count": 3,
     "metadata": {},
     "output_type": "execute_result"
    }
   ],
   "source": [
    "my_details"
   ]
  },
  {
   "cell_type": "code",
   "execution_count": 5,
   "metadata": {},
   "outputs": [
    {
     "data": {
      "text/plain": [
       "'Male'"
      ]
     },
     "execution_count": 5,
     "metadata": {},
     "output_type": "execute_result"
    }
   ],
   "source": [
    "my_details['Sex']"
   ]
  },
  {
   "cell_type": "code",
   "execution_count": 16,
   "metadata": {},
   "outputs": [],
   "source": [
    "#to add a key value pair we can do \n",
    "my_details['Place of Birth'] = 'Hyderabad'"
   ]
  },
  {
   "cell_type": "code",
   "execution_count": 17,
   "metadata": {},
   "outputs": [
    {
     "data": {
      "text/plain": [
       "{'Name': 'Soura Vamseekar',\n",
       " 'Age': 26,\n",
       " 'Sex': 'Male',\n",
       " 'Nationality': 'Indian',\n",
       " 'Place of Birth': 'Hyderabad'}"
      ]
     },
     "execution_count": 17,
     "metadata": {},
     "output_type": "execute_result"
    }
   ],
   "source": [
    "my_details"
   ]
  },
  {
   "cell_type": "code",
   "execution_count": 18,
   "metadata": {},
   "outputs": [],
   "source": [
    "#we can also change the values as well by\n",
    "my_details['Name'] = 'Marti Vamseekar'"
   ]
  },
  {
   "cell_type": "code",
   "execution_count": 19,
   "metadata": {},
   "outputs": [
    {
     "data": {
      "text/plain": [
       "{'Name': 'Marti Vamseekar',\n",
       " 'Age': 26,\n",
       " 'Sex': 'Male',\n",
       " 'Nationality': 'Indian',\n",
       " 'Place of Birth': 'Hyderabad'}"
      ]
     },
     "execution_count": 19,
     "metadata": {},
     "output_type": "execute_result"
    }
   ],
   "source": [
    "my_details"
   ]
  },
  {
   "cell_type": "code",
   "execution_count": 27,
   "metadata": {},
   "outputs": [
    {
     "data": {
      "text/plain": [
       "{'Name': 'Marti Vamseekar',\n",
       " 'Age': 24,\n",
       " 'Sex': 'Male',\n",
       " 'Nationality': 'Indian',\n",
       " 'Place of Birth': 'Hyderabad'}"
      ]
     },
     "execution_count": 27,
     "metadata": {},
     "output_type": "execute_result"
    }
   ],
   "source": [
    "# we can effect the value by\n",
    "my_details['Age'] -= 1\n",
    "my_details"
   ]
  },
  {
   "cell_type": "markdown",
   "metadata": {},
   "source": [
    "**TO GET ALL THE KEYS OF THE DICTIONARY USE KEYS() METHOD**"
   ]
  },
  {
   "cell_type": "code",
   "execution_count": 28,
   "metadata": {},
   "outputs": [
    {
     "data": {
      "text/plain": [
       "dict_keys(['Name', 'Age', 'Sex', 'Nationality', 'Place of Birth'])"
      ]
     },
     "execution_count": 28,
     "metadata": {},
     "output_type": "execute_result"
    }
   ],
   "source": [
    "my_details.keys()"
   ]
  },
  {
   "cell_type": "markdown",
   "metadata": {},
   "source": [
    "**TO GET ALL THE VALUES OF THE DICTIONARY USE VALUES() METHOD**"
   ]
  },
  {
   "cell_type": "code",
   "execution_count": 29,
   "metadata": {},
   "outputs": [
    {
     "data": {
      "text/plain": [
       "dict_values(['Marti Vamseekar', 24, 'Male', 'Indian', 'Hyderabad'])"
      ]
     },
     "execution_count": 29,
     "metadata": {},
     "output_type": "execute_result"
    }
   ],
   "source": [
    "my_details.values()"
   ]
  },
  {
   "cell_type": "markdown",
   "metadata": {},
   "source": [
    "**TO GET ALL THE ITEMS OF THE DICTIONARY USE ITEMS() METHOD**"
   ]
  },
  {
   "cell_type": "code",
   "execution_count": 30,
   "metadata": {},
   "outputs": [
    {
     "data": {
      "text/plain": [
       "dict_items([('Name', 'Marti Vamseekar'), ('Age', 24), ('Sex', 'Male'), ('Nationality', 'Indian'), ('Place of Birth', 'Hyderabad')])"
      ]
     },
     "execution_count": 30,
     "metadata": {},
     "output_type": "execute_result"
    }
   ],
   "source": [
    "my_details.items()"
   ]
  }
 ],
 "metadata": {
  "kernelspec": {
   "display_name": "Python 3",
   "language": "python",
   "name": "python3"
  },
  "language_info": {
   "codemirror_mode": {
    "name": "ipython",
    "version": 3
   },
   "file_extension": ".py",
   "mimetype": "text/x-python",
   "name": "python",
   "nbconvert_exporter": "python",
   "pygments_lexer": "ipython3",
   "version": "3.13.2"
  }
 },
 "nbformat": 4,
 "nbformat_minor": 2
}
