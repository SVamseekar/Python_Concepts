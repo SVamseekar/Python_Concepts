{
 "cells": [
  {
   "cell_type": "markdown",
   "id": "26ec8d7f",
   "metadata": {},
   "source": [
    "## **PYTHON STATEMENTS**\n",
    "**There are 3 Python statements**<br/>\n",
    "**1. IF Statement**<br/>\n",
    "**2. ELIF Statement**<br/>\n",
    "**3. ELSE Statement**<br/>"
   ]
  },
  {
   "cell_type": "code",
   "execution_count": null,
   "id": "a3c0a8a4",
   "metadata": {},
   "outputs": [
    {
     "name": "stdout",
     "output_type": "stream",
     "text": [
      "Hello Mr. Vamseekar\n"
     ]
    }
   ],
   "source": [
    "#IF Statement\n",
    "\n",
    "name = 'Vamsee'\n",
    "\n",
    "if name=='Vamsee':\n",
    "    print('Hello Mr. Vamseekar')"
   ]
  },
  {
   "cell_type": "code",
   "execution_count": 6,
   "id": "485bf8c5",
   "metadata": {},
   "outputs": [
    {
     "name": "stdout",
     "output_type": "stream",
     "text": [
      "Who are you? What is your name?\n"
     ]
    }
   ],
   "source": [
    "#ELSE Statement\n",
    "\n",
    "name = 'Srikar'\n",
    "\n",
    "if name=='Vamsee':\n",
    "    print('Hello Mr. Vamseekar')\n",
    "else:\n",
    "    print('Who are you? What is your name?')"
   ]
  },
  {
   "cell_type": "code",
   "execution_count": 9,
   "id": "1839aafa",
   "metadata": {},
   "outputs": [
    {
     "name": "stdout",
     "output_type": "stream",
     "text": [
      "Hello Mr. Srikar\n"
     ]
    }
   ],
   "source": [
    "#ELIF Statement\n",
    "\n",
    "#name = 'Vamsee'\n",
    "name = 'Srikar'\n",
    "#name = 'Gopal'\n",
    "\n",
    "if name=='Vamsee':\n",
    "    print('Hello Mr. Vamseekar')\n",
    "elif name=='Srikar':\n",
    "    print('Hello Mr. Srikar')\n",
    "else:\n",
    "    print('Who are you? What is your name?')"
   ]
  },
  {
   "cell_type": "code",
   "execution_count": null,
   "id": "d5ec0c5f",
   "metadata": {},
   "outputs": [],
   "source": []
  }
 ],
 "metadata": {
  "kernelspec": {
   "display_name": "Python 3",
   "language": "python",
   "name": "python3"
  },
  "language_info": {
   "codemirror_mode": {
    "name": "ipython",
    "version": 3
   },
   "file_extension": ".py",
   "mimetype": "text/x-python",
   "name": "python",
   "nbconvert_exporter": "python",
   "pygments_lexer": "ipython3",
   "version": "3.13.2"
  }
 },
 "nbformat": 4,
 "nbformat_minor": 5
}
